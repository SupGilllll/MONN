{
 "cells": [
  {
   "cell_type": "code",
   "execution_count": 3,
   "metadata": {},
   "outputs": [],
   "source": [
    "import os"
   ]
  },
  {
   "cell_type": "code",
   "execution_count": 4,
   "metadata": {},
   "outputs": [],
   "source": [
    "os.chdir('/data/zhao/MONN/create_dataset')"
   ]
  },
  {
   "cell_type": "code",
   "execution_count": 5,
   "metadata": {},
   "outputs": [],
   "source": [
    "new_pdbid_list = []\n",
    "with open('out1.2_pdbid_list.txt') as f:\n",
    "    for line in f.readlines():\n",
    "            new_pdbid_list.append(line.strip().split()[0])"
   ]
  },
  {
   "cell_type": "code",
   "execution_count": 6,
   "metadata": {},
   "outputs": [],
   "source": [
    "pdbbind_pro_dict = {}\n",
    "with open('./pdbbind_index/INDEX_general_PL_name.2020') as f:\n",
    "    for line in f.readlines():\n",
    "        if line[0] != '#':\n",
    "            lines = line.strip().split('  ')\n",
    "            if lines[0] in new_pdbid_list and lines[2] != '------':\n",
    "                pdbbind_pro_dict[lines[0]] = lines[2]"
   ]
  },
  {
   "cell_type": "code",
   "execution_count": 8,
   "metadata": {},
   "outputs": [],
   "source": [
    "update_pdbid_list = list(mapping_id_dict.keys())"
   ]
  },
  {
   "cell_type": "code",
   "execution_count": 9,
   "metadata": {},
   "outputs": [],
   "source": [
    "fw = open('out1.2_pdbid_list.txt','w')\n",
    "for pdbid in update_pdbid_list:\n",
    "\tfw.write(pdbid+'\\n')\n",
    "fw.close()\n",
    "\n",
    "fw = open('out1.2_pdbbind_wget_complex.txt','w')\n",
    "for pdbid in update_pdbid_list:\n",
    "\tfw.write('https://files.rcsb.org/download/'+pdbid+'.pdb\\n')\n",
    "fw.close()"
   ]
  },
  {
   "cell_type": "code",
   "execution_count": 10,
   "metadata": {},
   "outputs": [],
   "source": [
    "old_pdbid_list = []\n",
    "with open('./pdbbind_index/INDEX_general_PL.2020') as f:\n",
    "    for line in f.readlines():\n",
    "        if line[0] != '#':\n",
    "            old_pdbid_list.append(line.strip().split()[0])"
   ]
  },
  {
   "cell_type": "code",
   "execution_count": 11,
   "metadata": {},
   "outputs": [],
   "source": [
    "for pdbid in old_pdbid_list:\n",
    "    if pdbid not in update_pdbid_list and os.path.exists('./pdb_files/'+ pdbid + '.pdb'):\n",
    "        os.remove('./pdb_files/'+ pdbid + '.pdb')"
   ]
  },
  {
   "cell_type": "code",
   "execution_count": 17,
   "metadata": {},
   "outputs": [],
   "source": [
    "mapping_id_list = []\n",
    "mapping_id_dict = {}\n",
    "with open('out1.4_pdb_uniprot_mapping_backup.tab') as f:\n",
    "\t\tfor line in f.readlines()[1:]:\n",
    "\t\t\tlines = line.strip().split('\\t')\n",
    "\t\t\tmapping_id_dict[lines[0]] = lines[1]\n",
    "\t\t\tmapping_id_list.append(lines[0])"
   ]
  },
  {
   "cell_type": "code",
   "execution_count": 12,
   "metadata": {},
   "outputs": [],
   "source": [
    "seen = set()\n",
    "dup = []\n",
    "for map_id in mapping_id_list:\n",
    "    if map_id in seen:\n",
    "        dup.append(map_id)\n",
    "    else:\n",
    "        seen.add(map_id)"
   ]
  },
  {
   "cell_type": "code",
   "execution_count": 13,
   "metadata": {},
   "outputs": [],
   "source": [
    "dup_list = list(set(dup))"
   ]
  },
  {
   "cell_type": "code",
   "execution_count": 18,
   "metadata": {},
   "outputs": [],
   "source": [
    "for dup_id in dup_list:\n",
    "    mapping_id_dict[dup_id] = pdbbind_pro_dict[dup_id]"
   ]
  },
  {
   "cell_type": "code",
   "execution_count": 19,
   "metadata": {},
   "outputs": [],
   "source": [
    "with open('out1.4_pdb_uniprot_mapping.tab', 'w') as f:\n",
    "    for key,value in mapping_id_dict.items():\n",
    "        f.write(f'{key}\\t{value}\\n')"
   ]
  }
 ],
 "metadata": {
  "kernelspec": {
   "display_name": "Python 3 (ipykernel)",
   "language": "python",
   "name": "python3"
  },
  "language_info": {
   "codemirror_mode": {
    "name": "ipython",
    "version": 3
   },
   "file_extension": ".py",
   "mimetype": "text/x-python",
   "name": "python",
   "nbconvert_exporter": "python",
   "pygments_lexer": "ipython3",
   "version": "3.8.16"
  },
  "orig_nbformat": 4
 },
 "nbformat": 4,
 "nbformat_minor": 2
}

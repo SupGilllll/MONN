{
 "cells": [
  {
   "cell_type": "code",
   "execution_count": 1,
   "metadata": {},
   "outputs": [],
   "source": [
    "import os\n",
    "os.chdir('/data/zhao/MONN/create_dataset')"
   ]
  },
  {
   "cell_type": "code",
   "execution_count": 2,
   "metadata": {},
   "outputs": [],
   "source": [
    "pdbbind_pro_dict = {}\n",
    "with open('./pdbbind_index/INDEX_general_PL.2020') as f:\n",
    "    for line in f.readlines():\n",
    "        if line[0] != '#':\n",
    "            protein = line.strip().split('  ')[0]\n",
    "            ligand = line.strip().split('(')[1].split(')')[0]\n",
    "            if '-mer' in ligand:\n",
    "                continue\n",
    "            elif '/' in ligand:\n",
    "                ligand = ligand.split('/')[0]\n",
    "            if len(ligand) != 3:\n",
    "                #print(line[:4], ligand)\n",
    "                continue\n",
    "            pdbbind_pro_dict[protein] = ligand"
   ]
  },
  {
   "cell_type": "code",
   "execution_count": 4,
   "metadata": {},
   "outputs": [],
   "source": [
    "current_pdbid_list = []\n",
    "with open('out1.4_pdb_uniprot_mapping.tab') as f:\n",
    "    for line in f.readlines()[1:]:\n",
    "        lines = line.strip().split('\\t')\n",
    "        current_pdbid_list.append(lines[0])"
   ]
  },
  {
   "cell_type": "code",
   "execution_count": 5,
   "metadata": {},
   "outputs": [
    {
     "data": {
      "text/plain": [
       "True"
      ]
     },
     "execution_count": 5,
     "metadata": {},
     "output_type": "execute_result"
    }
   ],
   "source": [
    "len(current_pdbid_list) == len(set(current_pdbid_list))"
   ]
  },
  {
   "cell_type": "code",
   "execution_count": 6,
   "metadata": {},
   "outputs": [
    {
     "name": "stdout",
     "output_type": "stream",
     "text": [
      "16240\n"
     ]
    }
   ],
   "source": [
    "cnt = 0\n",
    "total_pdbid_list = list(pdbbind_pro_dict.keys())\n",
    "for cur_id in current_pdbid_list:\n",
    "    if cur_id in total_pdbid_list:\n",
    "        cnt = cnt + 1\n",
    "print(cnt)"
   ]
  },
  {
   "cell_type": "code",
   "execution_count": 7,
   "metadata": {},
   "outputs": [
    {
     "name": "stdout",
     "output_type": "stream",
     "text": [
      "16240\n"
     ]
    }
   ],
   "source": [
    "re_cnt = 0\n",
    "for cur_id in current_pdbid_list:\n",
    "    ligand = pdbbind_pro_dict[cur_id]\n",
    "    if '-mer' in ligand:\n",
    "        continue\n",
    "    if len(ligand) != 3:\n",
    "        #print(line[:4], ligand)\n",
    "        continue\n",
    "    re_cnt = re_cnt + 1\n",
    "print(re_cnt)"
   ]
  }
 ],
 "metadata": {
  "kernelspec": {
   "display_name": "Python 3 (ipykernel)",
   "language": "python",
   "name": "python3"
  },
  "language_info": {
   "codemirror_mode": {
    "name": "ipython",
    "version": 3
   },
   "file_extension": ".py",
   "mimetype": "text/x-python",
   "name": "python",
   "nbconvert_exporter": "python",
   "pygments_lexer": "ipython3",
   "version": "3.8.16"
  },
  "orig_nbformat": 4
 },
 "nbformat": 4,
 "nbformat_minor": 2
}

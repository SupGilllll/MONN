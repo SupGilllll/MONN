{
 "cells": [
  {
   "cell_type": "code",
   "execution_count": 7,
   "metadata": {},
   "outputs": [],
   "source": [
    "from os.path import exists\n",
    "import os"
   ]
  },
  {
   "cell_type": "code",
   "execution_count": 8,
   "metadata": {},
   "outputs": [],
   "source": [
    "os.chdir('/data/zhao/MONN/create_dataset')"
   ]
  },
  {
   "cell_type": "code",
   "execution_count": 3,
   "metadata": {},
   "outputs": [],
   "source": [
    "id_set = set() \n",
    "with open('/data/zhao/MONN/create_dataset/out1.2_pdbbind_wget_ligand.txt') as f:\n",
    "    for line in f.readlines():\n",
    "        id_set.add(line[40:43])"
   ]
  },
  {
   "cell_type": "code",
   "execution_count": 12,
   "metadata": {},
   "outputs": [
    {
     "name": "stdout",
     "output_type": "stream",
     "text": [
      "exist!\n"
     ]
    }
   ],
   "source": [
    "if exists('pdb_files/'+ '5tln' + '.pdb'):\n",
    "    print(\"exist!\")\n",
    "else:\n",
    "    print(\"not exist!\")"
   ]
  },
  {
   "cell_type": "code",
   "execution_count": 5,
   "metadata": {},
   "outputs": [],
   "source": [
    "id_list = []\n",
    "for id in list(id_set):\n",
    "    if exists('pdb_files/'+ id + '_ideal.pdb'):\n",
    "        id_list.append(id)"
   ]
  },
  {
   "cell_type": "code",
   "execution_count": 6,
   "metadata": {},
   "outputs": [],
   "source": [
    "with open('out1.2_pdbbind_wget_ligand.txt','w') as f:\n",
    "    for pdbid in id_list:\n",
    "        f.write('https://files.rcsb.org/ligands/download/'+pdbid+'_ideal.pdb\\n')"
   ]
  },
  {
   "cell_type": "code",
   "execution_count": 9,
   "metadata": {},
   "outputs": [],
   "source": [
    "compound_id_list = []\n",
    "with open('out1.2_pdbbind_wget_ligand.txt', 'r') as f:\n",
    "    for line in f.readlines():\n",
    "        compound_id_list.append(line[40:43])"
   ]
  },
  {
   "cell_type": "code",
   "execution_count": 10,
   "metadata": {},
   "outputs": [],
   "source": [
    "pdbid_list = []\n",
    "with open('./pdbbind_index/INDEX_general_PL.2020') as f:\n",
    "    for line in f.readlines():\n",
    "        if line[0] != '#':\n",
    "            ligand = line.strip().split('(')[1].split(')')[0]\n",
    "            if ligand in compound_id_list:\n",
    "                pdbid_list.append(line.strip().split()[0])"
   ]
  },
  {
   "cell_type": "code",
   "execution_count": 11,
   "metadata": {},
   "outputs": [],
   "source": [
    "fw = open('out1.2_pdbid_list.txt','w')\n",
    "for pdbid in pdbid_list:\n",
    "\tfw.write(pdbid+'\\n')\n",
    "fw.close()\n",
    "\n",
    "fw = open('out1.2_pdbbind_wget_complex.txt','w')\n",
    "for pdbid in pdbid_list:\n",
    "\tfw.write('https://files.rcsb.org/download/'+pdbid+'.pdb\\n')\n",
    "fw.close()"
   ]
  },
  {
   "cell_type": "code",
   "execution_count": 13,
   "metadata": {},
   "outputs": [],
   "source": [
    "old_pdbid_list = []\n",
    "with open('./pdbbind_index/INDEX_general_PL.2020') as f:\n",
    "    for line in f.readlines():\n",
    "        if line[0] != '#':\n",
    "            old_pdbid_list.append(line.strip().split()[0])"
   ]
  },
  {
   "cell_type": "code",
   "execution_count": 14,
   "metadata": {},
   "outputs": [],
   "source": [
    "for pdbid in old_pdbid_list:\n",
    "    if pdbid not in pdbid_list and exists('./pdb_files/'+ pdbid + '.pdb'):\n",
    "        os.remove('./pdb_files/'+ pdbid + '.pdb')"
   ]
  },
  {
   "cell_type": "code",
   "execution_count": null,
   "metadata": {},
   "outputs": [],
   "source": [
    "pdbbind_pro_dict = {}\n",
    "with open('./pdbbind_index/INDEX_general_PL_name.2020') as f:\n",
    "\t\tfor line in f.readlines():\n",
    "\t\t\tif line[0] != '#':\n",
    "\t\t\t\tlines = line.strip().split('  ')\n",
    "\t\t\t\tif lines[0] in lines[2] != '------':\n",
    "\t\t\t\t\tuniprotid_set.add(lines[2])"
   ]
  },
  {
   "cell_type": "code",
   "execution_count": null,
   "metadata": {},
   "outputs": [],
   "source": [
    "# map pdbid to unique uniprot id\n",
    "seen = set()\n",
    "dupes = []"
   ]
  }
 ],
 "metadata": {
  "kernelspec": {
   "display_name": "Python 3 (ipykernel)",
   "language": "python",
   "name": "python3"
  },
  "language_info": {
   "codemirror_mode": {
    "name": "ipython",
    "version": 3
   },
   "file_extension": ".py",
   "mimetype": "text/x-python",
   "name": "python",
   "nbconvert_exporter": "python",
   "pygments_lexer": "ipython3",
   "version": "3.8.16"
  },
  "orig_nbformat": 4
 },
 "nbformat": 4,
 "nbformat_minor": 2
}

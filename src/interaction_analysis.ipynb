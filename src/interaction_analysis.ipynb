{
 "cells": [
  {
   "cell_type": "code",
   "execution_count": 1,
   "metadata": {},
   "outputs": [],
   "source": [
    "import numpy as np\n",
    "from sklearn import metrics\n",
    "import matplotlib.pyplot as plt\n",
    "from rdkit import Chem\n",
    "from rdkit.Chem import Draw\n",
    "from matplotlib.colors import ColorConverter\n",
    "import pickle\n",
    "import seaborn as sns"
   ]
  },
  {
   "cell_type": "code",
   "execution_count": 2,
   "metadata": {},
   "outputs": [],
   "source": [
    "with open('../data/mol_dict', 'rb') as f:\n",
    "    mol_dict = pickle.load(f)"
   ]
  },
  {
   "cell_type": "code",
   "execution_count": 57,
   "metadata": {},
   "outputs": [],
   "source": [
    "records = np.load('/data/zhao/MONN/results/240116/transformer/load_model/records.npy', allow_pickle=True).tolist()\n",
    "# sorted_records = sorted(records, key=lambda x: x['auc'], reverse=True)\n",
    "sorted_records = sorted(records, key=lambda x: x['auc'], reverse=False)\n",
    "baseline_records = np.load('/data/zhao/MONN/results/240116/transformer/load_model/baseline_records.npy', allow_pickle=True).item()"
   ]
  },
  {
   "cell_type": "code",
   "execution_count": 38,
   "metadata": {},
   "outputs": [
    {
     "name": "stdout",
     "output_type": "stream",
     "text": [
      "3u8w\n"
     ]
    }
   ],
   "source": [
    "record = sorted_records[129]\n",
    "print(record['pdbid'])"
   ]
  },
  {
   "cell_type": "code",
   "execution_count": 65,
   "metadata": {},
   "outputs": [
    {
     "name": "stdout",
     "output_type": "stream",
     "text": [
      "4jpa\n",
      "22\n",
      "0.03499562554680665 0.08333333333333333 0.7486850602008082\n",
      "0.0040003844\n",
      "Binary Predictions:\n",
      "Row indicators: [1 0 0 0 1 0 0 0 0 1 0 1 1 1 1 1 0 0 0 0 1 1 0 0 0 0 0 0 0 0 1 1 0 0]\n",
      "Column indicators: [0 1 0 0 0 0 0 0 1 0 1 0 0 1 1 1 0 0 0 0 0 0 0 0 0 0 0 0 0 0 0 0 0 0 0 0 0\n",
      " 1 0 0 0 1 0 0 0 1 1 1 0 1 1 0 0 0 0 0 0 0 1 0 0 0 0 0 1 0 0 0 0 0 0 0 0 1\n",
      " 1 0 0 0 0 1 0 0 0 0 0 1 1 0 0 0 0 0 0 0 0 0 0 0 0 0 0 0 0 1 1 0 1 0 0 1 0\n",
      " 0 1 0 0 0 1 0 1 1 0 0 0 1 1 1 0 0 0 1 1 0 0 0 0 0 0 1 0 0 0 1 0 0 1 0 0 0\n",
      " 1 0 0 1 1 1 0 0 1 0 0 0 0 0 0 0 0 0 1 0 0 0 0 1 0 0 1 1 0 1 0 0 0 0 0 0 0\n",
      " 0 1 0 1 0 0 0 0 1 1 0 0 0 0 1 1 0 0 0 0 1 1 1 0 0 0 0 0 1 1 0 1 0 0 0 0 1\n",
      " 0 1 0 1 0 0 0 0 0 1 0 0 0 0 0 0 0 0 1 0 0 1 1 1 1 0 0 0 1 1 0 0 0 0 0 0 0\n",
      " 0 0 0 0 0 0 1 0 0 0 0 0 0 0 1 0 0 1 0 0 1 0 0 0 0 0 0 0 0 0 0 0 0 0 1 0 0\n",
      " 0 0 0 1 0 0 1 0 0 0 1 1 1 0 0 1 0 0 0 0 0 0 0 0 1 0 1 0 0 1 1 0 0 0 0 1 0\n",
      " 0 0 0 0 1 0 1 0 0 1 0 0 0 1 0 1 0 0 0 0 1 1 0 0 1 0 1 0 0 0 0 0 1 0 0 0 0\n",
      " 0 0 0 0 0 0 0 0 0 0 0 0 0 0 0 0 1 1 0 0 1 0 0 1 0 0 1 0 0 1 0 0 1 0 1 0 0\n",
      " 1 1 1 0 0 0 0 0 1 0 0 0 0 0 0 0 1 0 0 0 0 0 0 0 0 0 0 1 0 0 1 0 1 0 1 1 1\n",
      " 1 0 0 0 0 1 0 1 0 0 1 0 1 0 0 0 0 0 0 0 0 1 0 0 0 1 0]\n",
      "12 121\n"
     ]
    }
   ],
   "source": [
    "# 4x3t 39 0.9663331019263222 (29, 158) 9th element\n",
    "record = sorted_records[192]\n",
    "print(record['pdbid'])\n",
    "fpr, tpr, thresholds = metrics.roc_curve(record['int_label'].reshape(-1), record['int_pred'].reshape(-1))\n",
    "# plt.plot(fpr, tpr)\n",
    "# for i, value in enumerate(fpr):\n",
    "#     print(i, value)\n",
    "optimal_idx = 22\n",
    "print(optimal_idx)\n",
    "threshold = thresholds[optimal_idx]\n",
    "print(fpr[optimal_idx], tpr[optimal_idx], metrics.auc(fpr, tpr))\n",
    "print(threshold)\n",
    "binary_predictions = (record['int_pred'] >= threshold).astype(int)\n",
    "non_zero_rows, non_zero_cols = np.nonzero(binary_predictions)\n",
    "row_indicators = np.zeros(binary_predictions.shape[0], dtype=int)\n",
    "col_indicators = np.zeros(binary_predictions.shape[1], dtype=int)\n",
    "row_indicators[np.unique(non_zero_rows)] = 1\n",
    "col_indicators[np.unique(non_zero_cols)] = 1\n",
    "print(\"Binary Predictions:\")\n",
    "print(\"Row indicators:\", row_indicators)\n",
    "print(\"Column indicators:\", col_indicators)\n",
    "print(len(np.unique(non_zero_rows)), len(np.unique(non_zero_cols)))\n",
    "# for i in range(50):\n",
    "#     optimal_idx = i\n",
    "#     # print(optimal_idx)\n",
    "#     threshold = thresholds[optimal_idx]\n",
    "#     # print(fpr[optimal_idx], tpr[optimal_idx], metrics.auc(fpr, tpr))\n",
    "#     # print(threshold)\n",
    "#     binary_predictions = (record['int_pred'] >= threshold).astype(int)\n",
    "#     non_zero_rows, non_zero_cols = np.nonzero(binary_predictions)\n",
    "#     row_indicators = np.zeros(binary_predictions.shape[0], dtype=int)\n",
    "#     col_indicators = np.zeros(binary_predictions.shape[1], dtype=int)\n",
    "#     row_indicators[np.unique(non_zero_rows)] = 1\n",
    "#     col_indicators[np.unique(non_zero_cols)] = 1\n",
    "#     # print(\"Binary Predictions:\")\n",
    "#     # print(\"Row indicators:\", row_indicators)\n",
    "#     # print(\"Column indicators:\", col_indicators)\n",
    "#     print(i, len(np.unique(non_zero_rows)), len(np.unique(non_zero_cols)), fpr[i], np.count_nonzero(record['int_pred'] >= threshold))\n",
    "#     print('__________________')"
   ]
  },
  {
   "cell_type": "code",
   "execution_count": 63,
   "metadata": {},
   "outputs": [
    {
     "name": "stdout",
     "output_type": "stream",
     "text": [
      "4\n",
      "0.0011873515810523684 0.0 0.8902298670999459\n",
      "0.010392148\n",
      "Binary Predictions:\n",
      "Row indicators: [0 0 0 1 1 1 0 0 1 0 0 0 1 1 1 0 1 0 0 0 0 0 0 0 0 0 0 1 0 0 1 1 1 1]\n",
      "Column indicators: [0 0 0 0 0 0 0 0 0 0 0 0 0 0 0 0 0 0 0 0 0 0 0 0 0 0 0 0 0 0 0 0 0 0 0 0 0\n",
      " 0 0 0 0 0 0 0 0 0 0 0 0 0 0 0 0 0 0 0 0 0 0 0 0 0 0 0 0 0 0 0 0 0 0 0 0 0\n",
      " 0 0 0 0 0 0 0 0 0 0 0 0 0 0 0 0 0 0 0 0 0 0 0 0 0 0 0 0 0 0 0 0 0 0 0 0 0\n",
      " 0 0 0 0 0 0 0 0 0 0 0 0 0 0 0 0 0 0 0 0 0 0 0 0 0 0 0 0 0 0 0 0 0 0 0 0 0\n",
      " 0 0 0 0 0 0 0 0 0 0 0 0 0 0 0 0 0 0 0 0 0 0 0 0 0 0 0 0 0 0 0 0 0 0 0 0 0\n",
      " 0 0 0 0 0 0 0 0 0 0 0 0 0 0 0 1 0 0 0 0 0 0 0 0 0 0 0 0 0 0 0 0 0 0 0 0 1\n",
      " 0 0 0 0 0 0 0 0 0 0 0 0 0 0 0 0 0 0 0 0 0 0 0 0 0 0 0 0 0 0 0 0 0 0 0 0 0\n",
      " 0 0 0 0 0 0 0 0 0 0 0 0 0 0 0 0 0 0 0 0 0 0 0 0 0 0 0 0 0 0 0 0 0 0 0 0 0\n",
      " 0 0 0 0 0 0 0 0 0 0 1 0 0 0 0 0 0 0 0 0 0 0 0 0 0 0 0 0 0 0 0 0 0 0 0 0 0\n",
      " 0 0 0 0 0 0 0 0 0 0 0 0 0 0 0 0 0 0 0 0 0 0 0 0 0 0 0 0 0 0 0 0 0 0 0 0 0\n",
      " 0 0 0 0 0 0 0 0 0 0 0 0 0 0 0 0 0 0 0 0 0 0 0 0 0 0 0 0 0 0 0 0 0 0 0 0 0\n",
      " 0 0 0 0 0 0 0 0 0 0 0 0 0 0 0 0 0 0 0 0 0 0 0 0 0 0 0 0 0 0 0 0 0 0 0 0 0\n",
      " 0 0 0 0 0 0 0 0 0 0 0 0 0 0 0 0 0 0 0 0 0 0 0 0 0 0 0]\n",
      "13\n",
      "3\n"
     ]
    }
   ],
   "source": [
    "pdbid = '4jpa'\n",
    "fpr, tpr, thresholds = metrics.roc_curve(baseline_records[pdbid]['int_label'].reshape(-1), \n",
    "                                         baseline_records[pdbid]['int_pred'].reshape(-1))\n",
    "# plt.plot(fpr, tpr)\n",
    "# for i, value in enumerate(fpr):\n",
    "#     print(i, value)\n",
    "optimal_idx = 4\n",
    "print(optimal_idx)\n",
    "threshold = thresholds[optimal_idx]\n",
    "print(fpr[optimal_idx], tpr[optimal_idx], metrics.auc(fpr, tpr))\n",
    "print(threshold)\n",
    "binary_predictions = (baseline_records[pdbid]['int_pred'] >= threshold).astype(int)\n",
    "non_zero_rows, non_zero_cols = np.nonzero(binary_predictions)\n",
    "row_indicators = np.zeros(binary_predictions.shape[0], dtype=int)\n",
    "col_indicators = np.zeros(binary_predictions.shape[1], dtype=int)\n",
    "row_indicators[np.unique(non_zero_rows)] = 1\n",
    "col_indicators[np.unique(non_zero_cols)] = 1\n",
    "print(\"Binary Predictions:\")\n",
    "print(\"Row indicators:\", row_indicators)\n",
    "print(\"Column indicators:\", col_indicators)\n",
    "print(len(np.unique(non_zero_rows)))\n",
    "print(len(np.unique(non_zero_cols)))\n",
    "# for i in range(400):\n",
    "#     optimal_idx = i\n",
    "#     # print(optimal_idx)\n",
    "#     threshold = thresholds[optimal_idx]\n",
    "#     # print(fpr[optimal_idx], tpr[optimal_idx], metrics.auc(fpr, tpr))\n",
    "#     # print(threshold)\n",
    "#     binary_predictions = (baseline_records[pdbid]['int_pred'] >= threshold).astype(int)\n",
    "#     non_zero_rows, non_zero_cols = np.nonzero(binary_predictions)\n",
    "#     row_indicators = np.zeros(binary_predictions.shape[0], dtype=int)\n",
    "#     col_indicators = np.zeros(binary_predictions.shape[1], dtype=int)\n",
    "#     row_indicators[np.unique(non_zero_rows)] = 1\n",
    "#     col_indicators[np.unique(non_zero_cols)] = 1\n",
    "#     # print(\"Binary Predictions:\")\n",
    "#     # print(\"Row indicators:\", row_indicators)\n",
    "#     # print(\"Column indicators:\", col_indicators)\n",
    "#     print(i, len(np.unique(non_zero_rows)), len(np.unique(non_zero_cols)), fpr[i], np.count_nonzero(baseline_records[pdbid]['int_pred'] >= threshold))\n",
    "#     print('__________________')"
   ]
  },
  {
   "cell_type": "code",
   "execution_count": 59,
   "metadata": {},
   "outputs": [
    {
     "name": "stdout",
     "output_type": "stream",
     "text": [
      "(34, 471)\n",
      "Rows with non-zero elements: 12\n",
      "Columns with non-zero elements: 6\n",
      "471\n"
     ]
    }
   ],
   "source": [
    "rows, cols = np.nonzero(record['int_label'])\n",
    "label_non_zero_rows, label_non_zero_cols = np.nonzero(record['int_label'])\n",
    "label_row_indicators = np.zeros(record['int_label'].shape[0], dtype=int)\n",
    "label_col_indicators = np.zeros(record['int_label'].shape[1], dtype=int)\n",
    "label_row_indicators[np.unique(label_non_zero_rows)] = 1\n",
    "label_col_indicators[np.unique(label_non_zero_cols)] = 1\n",
    "\n",
    "# Print the rows and columns containing non-zero elements\n",
    "print(record['int_label'].shape)\n",
    "print(\"Rows with non-zero elements:\", len(np.unique(rows)))\n",
    "print(\"Columns with non-zero elements:\", len(np.unique(cols)))\n",
    "print(len(label_col_indicators))"
   ]
  },
  {
   "cell_type": "code",
   "execution_count": 30,
   "metadata": {},
   "outputs": [
    {
     "data": {
      "image/png": "[encoded data removed]",
      "text/plain": [
       "<rdkit.Chem.rdchem.Mol at 0x2b88728a9040>"
      ]
     },
     "execution_count": 30,
     "metadata": {},
     "output_type": "execute_result"
    }
   ],
   "source": [
    "def mol_with_atom_index(mol):\n",
    "    for atom in mol.GetAtoms():\n",
    "        atom.SetAtomMapNum(atom.GetIdx())\n",
    "    return mol\n",
    "mol_with_atom_index(mol)"
   ]
  },
  {
   "cell_type": "code",
   "execution_count": 84,
   "metadata": {},
   "outputs": [
    {
     "name": "stdout",
     "output_type": "stream",
     "text": [
      "34\n"
     ]
    }
   ],
   "source": [
    "# mol = mol_dict['45E']\n",
    "mol = mol_dict['AZ6']\n",
    "n_atoms = mol.GetNumAtoms()\n",
    "print(n_atoms)\n",
    "\n",
    "# Draw the molecule\n",
    "# RDKit supports different formats; here we use an IPython display\n",
    "img = Draw.MolToImage(mol, size=(300, 300), highlightAtoms = np.unique(label_non_zero_rows).tolist(), highlightColor=ColorConverter().to_rgb('#389BF8'))\n",
    "img.save('/data/zhao/MONN/src/plot_utils/label1.png')"
   ]
  },
  {
   "cell_type": "code",
   "execution_count": 95,
   "metadata": {},
   "outputs": [
    {
     "name": "stdout",
     "output_type": "stream",
     "text": [
      "34\n"
     ]
    }
   ],
   "source": [
    "mol = mol_dict['AZ6']\n",
    "n_atoms = mol.GetNumAtoms()\n",
    "print(n_atoms)\n",
    "\n",
    "# Draw the molecule\n",
    "# RDKit supports different formats; here we use an IPython display\n",
    "img = Draw.MolToImage(mol, size=(300, 300), highlightAtoms = np.unique(non_zero_rows).tolist(), highlightColor=ColorConverter().to_rgb('#389BF8'))\n",
    "img.save('/data/zhao/MONN/src/plot_utils/pred.png')"
   ]
  },
  {
   "cell_type": "code",
   "execution_count": 66,
   "metadata": {},
   "outputs": [
    {
     "data": {
      "image/png": "[encoded data removed]",
      "text/plain": [
       "<Figure size 1400x200 with 1 Axes>"
      ]
     },
     "metadata": {},
     "output_type": "display_data"
    }
   ],
   "source": [
    "plt.rcParams.update({'font.size': 14}) \n",
    "label = label_col_indicators\n",
    "data = col_indicators\n",
    "# data = label_col_indicators\n",
    "plt.figure(figsize=(14, 2))\n",
    "\n",
    "# Plotting vertical lines only at indices where the value is 1\n",
    "for i, value in enumerate(data):\n",
    "    if value == 1 and label[i] == 1:  \n",
    "        plt.axvline(x=i, color=ColorConverter().to_rgb('#DF573B'), linestyle='-', alpha=0.7)\n",
    "    elif value == 1:\n",
    "        plt.axvline(x=i, color=ColorConverter().to_rgb('#2D8BB6'), linestyle='-', alpha=0.7)    \n",
    "\n",
    "# Adding labels and title\n",
    "plt.xlim(0, len(data))\n",
    "# plt.xlabel('Indices of residues')\n",
    "plt.yticks([])\n",
    "plt.title('Proposed Model')\n",
    "\n",
    "# Show the plot\n",
    "plt.tight_layout()\n",
    "plt.savefig('/data/zhao/MONN/src/plot_utils/seq_label.png')"
   ]
  }
 ],
 "metadata": {
  "kernelspec": {
   "display_name": "monn-pytorch",
   "language": "python",
   "name": "python3"
  },
  "language_info": {
   "codemirror_mode": {
    "name": "ipython",
    "version": 3
   },
   "file_extension": ".py",
   "mimetype": "text/x-python",
   "name": "python",
   "nbconvert_exporter": "python",
   "pygments_lexer": "ipython3",
   "version": "3.9.16"
  }
 },
 "nbformat": 4,
 "nbformat_minor": 2
}
